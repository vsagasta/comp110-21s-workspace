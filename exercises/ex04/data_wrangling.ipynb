{
 "cells": [
  {
   "cell_type": "markdown",
   "metadata": {},
   "source": [
    "# EX04: Data Wrangling\n",
    "\n",
    "You will define and use functions that are commonly useful when _wrangling_ data in this exercise. You will frequently need your data to be organized in specific ways in order to perform analysis on it and that organization is rarely exactly the \"shape\" the data is stored in (such as a CSV table). Data _wrangling_ is the process of loading, converting, and reorganizing data so that you can analyze it."
   ]
  },
  {
   "cell_type": "code",
   "execution_count": 3,
   "metadata": {},
   "outputs": [],
   "source": [
    "__author__ = \"730396600\""
   ]
  },
  {
   "cell_type": "markdown",
   "metadata": {},
   "source": [
    "You will implement the utility functions for this exercise in the `data_utils.py` file found in the `exercises/ex04` directory. As you now know, when you import modules in a running Python program, the module is evaluated only once. Since your Jupyter Notebook _kernel_ is running the entire time you are working on functions in `data_utils.py`, we will use a special extension to automatically reload any changes you make _and save_ in modules you import. The special conventions in the cell below are turning this feature on."
   ]
  },
  {
   "cell_type": "code",
   "execution_count": 4,
   "metadata": {},
   "outputs": [
    {
     "output_type": "stream",
     "name": "stdout",
     "text": [
      "Autoreload of imported modules enabled. Be sure to save your work in other modules!\n"
     ]
    }
   ],
   "source": [
    "%reload_ext autoreload\n",
    "%autoreload 2\n",
    "print(\"Autoreload of imported modules enabled. Be sure to save your work in other modules!\")"
   ]
  },
  {
   "cell_type": "markdown",
   "metadata": {},
   "source": [
    "Data files will be stored in the `data` directory of the workspace. This Notebook is located in `exercises/ex04` directory. If you think of how to _navigate_ from this directory to the `data` directory, you would need to go \"two directories up\" and then \"into the `data` directory\". The constant `DATA_DIRECTORY` defined below uses the convention of two dots to refer to \"one directory up\", so it is a `str` that references the `data` directory _relative_ to this exercise's directory.\n",
    "\n",
    "Then, another constant is established referencing the path to the data file you will use to test your functions in this exercise."
   ]
  },
  {
   "cell_type": "code",
   "execution_count": 5,
   "metadata": {},
   "outputs": [
    {
     "output_type": "stream",
     "name": "stdout",
     "text": [
      "../../data/nc_durham_2015_march_21_to_27.csv\n"
     ]
    }
   ],
   "source": [
    "DATA_DIRECTORY=\"../../data\"\n",
    "print(f\"{DATA_DIRECTORY}/nc_durham_2015_march_21_to_27.csv\")\n",
    "DATA_FILE_PATH=f\"{DATA_DIRECTORY}/nc_durham_2015_march_21_to_27.csv\""
   ]
  },
  {
   "cell_type": "markdown",
   "metadata": {},
   "source": [
    "## Part 0. Reading Data from a Stored CSV File into Memory\n",
    "\n",
    "In this part of the exercise, you will implement utility functions to read a CSV file from your computer's hard-drive storage into your running program's (Jupyter kernel's) memory. Once in memory, computations over the data set are very fast.\n",
    "\n",
    "By default, your CSV file is read in row-by-row. Storing these rows as a list of \"row\" dictionaries is one way of _representing_ tabular data.\n",
    "\n",
    "### 0.0) Implement the `read_csv_rows` Function\n",
    "\n",
    "Complete the implementation of the `read_csv_rows` function in `data_utils.py` and be sure to save your work when making changes in that file _before_ re-evaluating the cell below to test it.\n",
    "\n",
    "Purpose: Read an entire CSV of data into a `list` of rows, each row represented as `dict[str, str]`.\n",
    "\n",
    "* Function Name: `read_csv_rows`\n",
    "* Parameter: \n",
    "    1. `str` path to CSV file\n",
    "* Return Type: `list[dict[str, str]]` \n",
    "\n",
    "Implementation hint: refer back to the code you wrote in lecture on 3/16 for reading a CSV file (or rewatch that part of lecture, here: https://www.youtube.com/watch?v=zdYKGYvp6Xw)\n",
    "\n",
    "There _should be_ 348 rows and 29 columns read from the `nc_durham_2015_march_21_to_27.csv` stops file. Additionally, the column names should print below those stats."
   ]
  },
  {
   "cell_type": "code",
   "execution_count": 6,
   "metadata": {},
   "outputs": [
    {
     "output_type": "stream",
     "name": "stdout",
     "text": [
      "Data File Read: ../../data/nc_durham_2015_march_21_to_27.csv\n348 rows\n29 columns\nColumns names: dict_keys(['raw_row_number', 'date', 'time', 'location', 'county_name', 'subject_age', 'subject_race', 'subject_sex', 'officer_id_hash', 'department_name', 'type', 'arrest_made', 'citation_issued', 'warning_issued', 'outcome', 'contraband_found', 'contraband_drugs', 'contraband_weapons', 'frisk_performed', 'search_conducted', 'search_person', 'search_vehicle', 'search_basis', 'reason_for_frisk', 'reason_for_search', 'reason_for_stop', 'raw_Ethnicity', 'raw_Race', 'raw_action_description'])\n"
     ]
    }
   ],
   "source": [
    "from data_utils import read_csv_rows\n",
    "\n",
    "data_rows: list[dict[str, str]] = read_csv_rows(DATA_FILE_PATH)\n",
    "\n",
    "if len(data_rows) == 0:\n",
    "    print(\"Go implement read_csv_rows in data_utils.py\")\n",
    "    print(\"Be sure to save your work before re-evaluating this cell!\")\n",
    "else:\n",
    "    print(f\"Data File Read: {DATA_FILE_PATH}\")\n",
    "    print(f\"{len(data_rows)} rows\")\n",
    "    print(f\"{len(data_rows[0].keys())} columns\")\n",
    "    print(f\"Columns names: {data_rows[0].keys()}\")"
   ]
  },
  {
   "cell_type": "markdown",
   "metadata": {},
   "source": [
    "### 0.1) `column_values` Function\n",
    "\n",
    "Define and implement this function in `data_utils.py`.\n",
    "\n",
    "Purpose: Produce a `list[str]` of all values in a single `column` whose name is the second parameter.\n",
    "\n",
    "* Function Name: `column_values`\n",
    "* Parameters: \n",
    "    1. `list[dict[str, str]]` - a list of rows representing a _table_\n",
    "    2. `str` - the name of the column (key) whose values are being selected\n",
    "* Return Type: `list[str]`\n",
    "\n",
    "Implementation strategy: Establish an empty list to store your column values. Loop through every row in the first parameter. Append the value associated with the key (\"column\") given as the second parameter to your list of column values. After looping through every row, return the list of column values.\n",
    "\n",
    " Be sure to save your work before re-evaluating the cell below to test it. With the data loaded in `nc_durham_2015_march_21_to_27.csv`, there should be 348 values in the column. The first five values of the `subject_age` column should be 33, 25, 26, 24, 44."
   ]
  },
  {
   "cell_type": "code",
   "execution_count": 7,
   "metadata": {
    "tags": []
   },
   "outputs": [
    {
     "output_type": "stream",
     "name": "stdout",
     "text": [
      "Column 'subject_age' has 348 values.\nThe first five values are:\n33\n25\n26\n24\n44\n"
     ]
    }
   ],
   "source": [
    "from data_utils import column_values\n",
    "\n",
    "subject_age: list[str] = column_values(data_rows, \"subject_age\")\n",
    "\n",
    "if len(subject_age) == 0:\n",
    "    print(\"Complete your implementation of column_values in data_utils.py\")\n",
    "    print(\"Be sure to follow the guidelines above and save your work before re-evaluating!\")\n",
    "else:\n",
    "    print(f\"Column 'subject_age' has {len(subject_age)} values.\")\n",
    "    print(\"The first five values are:\")\n",
    "    for i in range(5):\n",
    "        print(subject_age[i])"
   ]
  },
  {
   "cell_type": "markdown",
   "metadata": {},
   "source": [
    "### 0.2) `columnar` Function\n",
    "\n",
    "Define and implement this function in `data_utils.py`.\n",
    "\n",
    "Purpose: _Transform_ a table represented as a list of rows (e.g. `list[dict[str, str]]`) into one represented as a dictionary of columns (e.g. `dict[str, list[str]]`).\n",
    "\n",
    "Why is this function useful? Many types of analysis are much easier to perform column-wise.\n",
    "\n",
    "* Function Name: `columnar`\n",
    "* Parameter: `list[dict[str, str]]` - a \"table\" organized as a list of rows\n",
    "* Return Type: `dict[str, list[str]]` - a \"table\" organized as a dictionary of columns\n",
    "\n",
    "Implementation strategy: Establish an empty dictionary to the your column-oriented table you are building up to ultimately return. Loop through each of the column names in the first row of the parameter. Get a list of each column's values via your `column_values` function defined previously. Then, associate the column name with the list of its values in the dictionary you established. After looping through every column name, return the dictionary."
   ]
  },
  {
   "cell_type": "code",
   "execution_count": 8,
   "metadata": {},
   "outputs": [
    {
     "output_type": "stream",
     "name": "stdout",
     "text": [
      "29 columns\n348 rows\nColumns names: dict_keys(['raw_row_number', 'date', 'time', 'location', 'county_name', 'subject_age', 'subject_race', 'subject_sex', 'officer_id_hash', 'department_name', 'type', 'arrest_made', 'citation_issued', 'warning_issued', 'outcome', 'contraband_found', 'contraband_drugs', 'contraband_weapons', 'frisk_performed', 'search_conducted', 'search_person', 'search_vehicle', 'search_basis', 'reason_for_frisk', 'reason_for_search', 'reason_for_stop', 'raw_Ethnicity', 'raw_Race', 'raw_action_description'])\n"
     ]
    }
   ],
   "source": [
    "from data_utils import columnar\n",
    "\n",
    "data_cols: dict[str, list[str]] = columnar(data_rows)\n",
    "\n",
    "if len(data_cols.keys()) == 0:\n",
    "    print(\"Complete your implementation of columnar in data_utils.py\")\n",
    "    print(\"Be sure to follow the guidelines above and save your work before re-evaluating!\")\n",
    "else:\n",
    "    print(f\"{len(data_cols.keys())} columns\")\n",
    "    print(f\"{len(data_cols['subject_age'])} rows\")\n",
    "    print(f\"Columns names: {data_cols.keys()}\")"
   ]
  },
  {
   "cell_type": "markdown",
   "metadata": {},
   "source": [
    "## Part 1. Selecting (\"narrowing down\") a Data Table\n",
    "\n",
    "When working with a data set, it is useful to inspect the contents of the table you are working with in order to both be convinced your analysis is on the correct path and to know what steps to take next with specific column names or values.\n",
    "\n",
    "In this part of the exercise, you will write some useful utility functions to view the first `N` rows of a column-based table (a function named `head`, referring to the top rows of a table) and another function `select` for producing a simpler data table with only the subset of original columns you care about.\n",
    "\n",
    "### Displaying Tabular data with the `tabulate` 3rd Party Library\n",
    "\n",
    "Reading Python's `str` representations of tabular data, in either representation strategy we used above (list of rows vs. dict of cols), is uncomprehensible for data wrangling. This kind of problem is so common a 3rd party library called `tabulate` is commonly used to produce tables in Jupyter Notebooks. This library was was included in your workspace's `requirements.txt` file at the beginning of the semester, so you should already have it installed!\n",
    "\n",
    "For a quick demonstration of how the `tabulate` library works, consider this simple demo below. You should be able to evaluate it as is without any further changes and see the tabular representation appear."
   ]
  },
  {
   "cell_type": "code",
   "execution_count": 9,
   "metadata": {},
   "outputs": [
    {
     "output_type": "execute_result",
     "data": {
      "text/plain": [
       "'<table>\\n<thead>\\n<tr><th>school  </th><th>mascot         </th><th style=\"text-align: right;\">  founded</th></tr>\\n</thead>\\n<tbody>\\n<tr><td>UNC     </td><td>Rameses        </td><td style=\"text-align: right;\">     1789</td></tr>\\n<tr><td>NCSU    </td><td>Wolf           </td><td style=\"text-align: right;\">     1887</td></tr>\\n<tr><td>Duke    </td><td>A Literal Devil</td><td style=\"text-align: right;\">     1838</td></tr>\\n</tbody>\\n</table>'"
      ],
      "text/html": "<table>\n<thead>\n<tr><th>school  </th><th>mascot         </th><th style=\"text-align: right;\">  founded</th></tr>\n</thead>\n<tbody>\n<tr><td>UNC     </td><td>Rameses        </td><td style=\"text-align: right;\">     1789</td></tr>\n<tr><td>NCSU    </td><td>Wolf           </td><td style=\"text-align: right;\">     1887</td></tr>\n<tr><td>Duke    </td><td>A Literal Devil</td><td style=\"text-align: right;\">     1838</td></tr>\n</tbody>\n</table>"
     },
     "metadata": {},
     "execution_count": 9
    }
   ],
   "source": [
    "from tabulate import tabulate\n",
    "\n",
    "universities: dict[str, list[str, str]] = {\"school\": [\"UNC\", \"NCSU\", \"Duke\"], \"mascot\": [\"Rameses\", \"Wolf\", \"A Literal Devil\"], \"founded\": [\"1789\", \"1887\", \"1838\"]}\n",
    "\n",
    "tabulate(universities, universities.keys(), \"html\")"
   ]
  },
  {
   "cell_type": "markdown",
   "metadata": {},
   "source": [
    "### 1.0) `head` Function\n",
    "\n",
    "Define and implement this function in `data_utils.py`.\n",
    "\n",
    "Purpose: Produce a new column-based (e.g. `dict[str, list[str]]`) table with only the first `N` (a parameter) rows of data for each column.\n",
    "\n",
    "Why: Visualizing a table with hundreds, thousands, or millions of rows in it is overwhelming. You frequently want to just see the first few rows of a table to get a sense you are on the correct path.\n",
    "\n",
    "* Function name: `head`\n",
    "* Parameters:\n",
    "    1. `dict[str, list[str]]` - a column-based table of data that _will not be mutated_\n",
    "    2. `int` - The number of \"rows\" to include in the resulting list\n",
    "* Return type: `dict[str, list[str]]`\n",
    "\n",
    "Implementation strategy: \n",
    "\n",
    "1. Establish an empty dictionary that will serve as the returned dictionary this function is building up. \n",
    "2. Loop through each of the columns in the first row of the table given as a parameter. \n",
    "    1. Inside of the loop, establish an empty list to store each of the first N values in the column. \n",
    "    2. Loop through the first N items of the table's column, \n",
    "        1. Appending each item to the previously list established in step 2.1. \n",
    "    3. Assign the produced list of column values to the dictionary established in step 1.\n",
    "3. Return the dictionary.\n",
    "\n",
    "Once you have correctly implemented this function and saved your work, you should be able to evaluate the cell below and see the first five rows of the data table presented."
   ]
  },
  {
   "cell_type": "code",
   "execution_count": 10,
   "metadata": {},
   "outputs": [
    {
     "output_type": "execute_result",
     "data": {
      "text/plain": [
       "'<table>\\n<thead>\\n<tr><th style=\"text-align: right;\">  raw_row_number</th><th>date      </th><th>time    </th><th>location          </th><th>county_name  </th><th style=\"text-align: right;\">  subject_age</th><th>subject_race  </th><th>subject_sex  </th><th>officer_id_hash  </th><th>department_name         </th><th>type     </th><th>arrest_made  </th><th>citation_issued  </th><th>warning_issued  </th><th>outcome  </th><th>contraband_found  </th><th>contraband_drugs  </th><th>contraband_weapons  </th><th>frisk_performed  </th><th>search_conducted  </th><th>search_person  </th><th>search_vehicle  </th><th>search_basis  </th><th>reason_for_frisk  </th><th>reason_for_search  </th><th>reason_for_stop             </th><th>raw_Ethnicity  </th><th>raw_Race  </th><th>raw_action_description  </th></tr>\\n</thead>\\n<tbody>\\n<tr><td style=\"text-align: right;\">        19179089</td><td>2015-03-21</td><td>20:01:00</td><td>nan, Durham County</td><td>Durham County</td><td style=\"text-align: right;\">           33</td><td>black         </td><td>female       </td><td>f6e97b759c       </td><td>Durham Police Department</td><td>vehicular</td><td>FALSE        </td><td>FALSE            </td><td>TRUE            </td><td>warning  </td><td>NA                </td><td>NA                </td><td>NA                  </td><td>FALSE            </td><td>FALSE             </td><td>FALSE          </td><td>FALSE           </td><td>NA            </td><td>NA                </td><td>NA                 </td><td>Vehicle Equipment Violation </td><td>N              </td><td>B         </td><td>Verbal Warning          </td></tr>\\n<tr><td style=\"text-align: right;\">        19179090</td><td>2015-03-21</td><td>11:40:00</td><td>nan, Durham County</td><td>Durham County</td><td style=\"text-align: right;\">           25</td><td>black         </td><td>female       </td><td>81f290e452       </td><td>Durham Police Department</td><td>vehicular</td><td>FALSE        </td><td>FALSE            </td><td>TRUE            </td><td>warning  </td><td>NA                </td><td>NA                </td><td>NA                  </td><td>FALSE            </td><td>FALSE             </td><td>FALSE          </td><td>FALSE           </td><td>NA            </td><td>NA                </td><td>NA                 </td><td>Stop Light/Sign Violation   </td><td>N              </td><td>B         </td><td>Verbal Warning          </td></tr>\\n<tr><td style=\"text-align: right;\">        19179459</td><td>2015-03-21</td><td>17:00:00</td><td>nan, Durham County</td><td>Durham County</td><td style=\"text-align: right;\">           26</td><td>black         </td><td>male         </td><td>5a6f9ebaec       </td><td>Durham Police Department</td><td>vehicular</td><td>FALSE        </td><td>TRUE             </td><td>FALSE           </td><td>citation </td><td>NA                </td><td>NA                </td><td>NA                  </td><td>FALSE            </td><td>FALSE             </td><td>FALSE          </td><td>FALSE           </td><td>NA            </td><td>NA                </td><td>NA                 </td><td>Vehicle Regulatory Violation</td><td>N              </td><td>B         </td><td>Citation Issued         </td></tr>\\n<tr><td style=\"text-align: right;\">        19180240</td><td>2015-03-21</td><td>19:19:00</td><td>nan, Durham County</td><td>Durham County</td><td style=\"text-align: right;\">           24</td><td>black         </td><td>female       </td><td>10e24a4093       </td><td>Durham Police Department</td><td>vehicular</td><td>FALSE        </td><td>FALSE            </td><td>TRUE            </td><td>warning  </td><td>NA                </td><td>NA                </td><td>NA                  </td><td>FALSE            </td><td>FALSE             </td><td>FALSE          </td><td>FALSE           </td><td>NA            </td><td>NA                </td><td>NA                 </td><td>Stop Light/Sign Violation   </td><td>N              </td><td>B         </td><td>Verbal Warning          </td></tr>\\n<tr><td style=\"text-align: right;\">        19180242</td><td>2015-03-21</td><td>20:16:00</td><td>nan, Durham County</td><td>Durham County</td><td style=\"text-align: right;\">           44</td><td>black         </td><td>male         </td><td>10e24a4093       </td><td>Durham Police Department</td><td>vehicular</td><td>FALSE        </td><td>FALSE            </td><td>TRUE            </td><td>warning  </td><td>NA                </td><td>NA                </td><td>NA                  </td><td>FALSE            </td><td>FALSE             </td><td>FALSE          </td><td>FALSE           </td><td>NA            </td><td>NA                </td><td>NA                 </td><td>Vehicle Equipment Violation </td><td>N              </td><td>B         </td><td>Verbal Warning          </td></tr>\\n</tbody>\\n</table>'"
      ],
      "text/html": "<table>\n<thead>\n<tr><th style=\"text-align: right;\">  raw_row_number</th><th>date      </th><th>time    </th><th>location          </th><th>county_name  </th><th style=\"text-align: right;\">  subject_age</th><th>subject_race  </th><th>subject_sex  </th><th>officer_id_hash  </th><th>department_name         </th><th>type     </th><th>arrest_made  </th><th>citation_issued  </th><th>warning_issued  </th><th>outcome  </th><th>contraband_found  </th><th>contraband_drugs  </th><th>contraband_weapons  </th><th>frisk_performed  </th><th>search_conducted  </th><th>search_person  </th><th>search_vehicle  </th><th>search_basis  </th><th>reason_for_frisk  </th><th>reason_for_search  </th><th>reason_for_stop             </th><th>raw_Ethnicity  </th><th>raw_Race  </th><th>raw_action_description  </th></tr>\n</thead>\n<tbody>\n<tr><td style=\"text-align: right;\">        19179089</td><td>2015-03-21</td><td>20:01:00</td><td>nan, Durham County</td><td>Durham County</td><td style=\"text-align: right;\">           33</td><td>black         </td><td>female       </td><td>f6e97b759c       </td><td>Durham Police Department</td><td>vehicular</td><td>FALSE        </td><td>FALSE            </td><td>TRUE            </td><td>warning  </td><td>NA                </td><td>NA                </td><td>NA                  </td><td>FALSE            </td><td>FALSE             </td><td>FALSE          </td><td>FALSE           </td><td>NA            </td><td>NA                </td><td>NA                 </td><td>Vehicle Equipment Violation </td><td>N              </td><td>B         </td><td>Verbal Warning          </td></tr>\n<tr><td style=\"text-align: right;\">        19179090</td><td>2015-03-21</td><td>11:40:00</td><td>nan, Durham County</td><td>Durham County</td><td style=\"text-align: right;\">           25</td><td>black         </td><td>female       </td><td>81f290e452       </td><td>Durham Police Department</td><td>vehicular</td><td>FALSE        </td><td>FALSE            </td><td>TRUE            </td><td>warning  </td><td>NA                </td><td>NA                </td><td>NA                  </td><td>FALSE            </td><td>FALSE             </td><td>FALSE          </td><td>FALSE           </td><td>NA            </td><td>NA                </td><td>NA                 </td><td>Stop Light/Sign Violation   </td><td>N              </td><td>B         </td><td>Verbal Warning          </td></tr>\n<tr><td style=\"text-align: right;\">        19179459</td><td>2015-03-21</td><td>17:00:00</td><td>nan, Durham County</td><td>Durham County</td><td style=\"text-align: right;\">           26</td><td>black         </td><td>male         </td><td>5a6f9ebaec       </td><td>Durham Police Department</td><td>vehicular</td><td>FALSE        </td><td>TRUE             </td><td>FALSE           </td><td>citation </td><td>NA                </td><td>NA                </td><td>NA                  </td><td>FALSE            </td><td>FALSE             </td><td>FALSE          </td><td>FALSE           </td><td>NA            </td><td>NA                </td><td>NA                 </td><td>Vehicle Regulatory Violation</td><td>N              </td><td>B         </td><td>Citation Issued         </td></tr>\n<tr><td style=\"text-align: right;\">        19180240</td><td>2015-03-21</td><td>19:19:00</td><td>nan, Durham County</td><td>Durham County</td><td style=\"text-align: right;\">           24</td><td>black         </td><td>female       </td><td>10e24a4093       </td><td>Durham Police Department</td><td>vehicular</td><td>FALSE        </td><td>FALSE            </td><td>TRUE            </td><td>warning  </td><td>NA                </td><td>NA                </td><td>NA                  </td><td>FALSE            </td><td>FALSE             </td><td>FALSE          </td><td>FALSE           </td><td>NA            </td><td>NA                </td><td>NA                 </td><td>Stop Light/Sign Violation   </td><td>N              </td><td>B         </td><td>Verbal Warning          </td></tr>\n<tr><td style=\"text-align: right;\">        19180242</td><td>2015-03-21</td><td>20:16:00</td><td>nan, Durham County</td><td>Durham County</td><td style=\"text-align: right;\">           44</td><td>black         </td><td>male         </td><td>10e24a4093       </td><td>Durham Police Department</td><td>vehicular</td><td>FALSE        </td><td>FALSE            </td><td>TRUE            </td><td>warning  </td><td>NA                </td><td>NA                </td><td>NA                  </td><td>FALSE            </td><td>FALSE             </td><td>FALSE          </td><td>FALSE           </td><td>NA            </td><td>NA                </td><td>NA                 </td><td>Vehicle Equipment Violation </td><td>N              </td><td>B         </td><td>Verbal Warning          </td></tr>\n</tbody>\n</table>"
     },
     "metadata": {},
     "execution_count": 10
    }
   ],
   "source": [
    "from data_utils import head\n",
    "\n",
    "data_cols_head: dict[str, list[str]] = head(data_cols, 5)\n",
    "head(data_cols, 5)\n",
    "if len(data_cols_head.keys()) != len(data_cols.keys()) or len(data_cols_head[\"subject_age\"]) != 5:\n",
    "    print(\"Complete your implementation of columnar in data_utils.py\")\n",
    "    print(\"Be sure to follow the guidelines above and save your work before re-evaluating!\")\n",
    "\n",
    "tabulate(data_cols_head, data_cols_head.keys(), \"html\")"
   ]
  },
  {
   "cell_type": "markdown",
   "metadata": {},
   "source": [
    "## 1.1) `select` Function\n",
    "\n",
    "Define and implement this function in `data_utils.py`.\n",
    "\n",
    "Purpose: Produce a new column-based (e.g. `dict[str, list[str]]`) table with only a specific subset of the original columns.\n",
    "\n",
    "Why: Many data tables will contain many columns that are not related to the analysis you are trying to perform. _Selecting_ only the columns you care about makes it easier to focus your attention on the problem at hand.\n",
    "\n",
    "* Function Name: `select`\n",
    "* Parameters:\n",
    "    1. `dict[str, list[str]]` - a column-based table of data that _will not be mutated_\n",
    "    2. `list[str]` - the names of the columns to copy to the new, returned dictionary\n",
    "* Return type: `dict[str, list[str]]`\n",
    "\n",
    "Implementation strategy:\n",
    "\n",
    "1. Establish an empty dictionary that will serve as the returned dictionary this function is building up.\n",
    "2. Loop through each of the columns _in the second parameter of the function_\n",
    "    1. Assign to the column key of the result dictionary the list of values stored in the input dictionary at the same column\n",
    "3. Return the dictionary produced\n",
    "\n",
    "Once you have correctly implemented this function, you can run the cell below to visualize the first 10 rows of the table and should only see 3 columns: `subject_race`, `subject_sex`."
   ]
  },
  {
   "cell_type": "code",
   "execution_count": 11,
   "metadata": {},
   "outputs": [
    {
     "output_type": "execute_result",
     "data": {
      "text/plain": [
       "'<table>\\n<thead>\\n<tr><th>subject_race  </th><th>subject_sex  </th></tr>\\n</thead>\\n<tbody>\\n<tr><td>black         </td><td>female       </td></tr>\\n<tr><td>black         </td><td>female       </td></tr>\\n<tr><td>black         </td><td>male         </td></tr>\\n<tr><td>black         </td><td>female       </td></tr>\\n<tr><td>black         </td><td>male         </td></tr>\\n<tr><td>black         </td><td>female       </td></tr>\\n<tr><td>black         </td><td>male         </td></tr>\\n<tr><td>black         </td><td>male         </td></tr>\\n<tr><td>white         </td><td>male         </td></tr>\\n<tr><td>black         </td><td>male         </td></tr>\\n</tbody>\\n</table>'"
      ],
      "text/html": "<table>\n<thead>\n<tr><th>subject_race  </th><th>subject_sex  </th></tr>\n</thead>\n<tbody>\n<tr><td>black         </td><td>female       </td></tr>\n<tr><td>black         </td><td>female       </td></tr>\n<tr><td>black         </td><td>male         </td></tr>\n<tr><td>black         </td><td>female       </td></tr>\n<tr><td>black         </td><td>male         </td></tr>\n<tr><td>black         </td><td>female       </td></tr>\n<tr><td>black         </td><td>male         </td></tr>\n<tr><td>black         </td><td>male         </td></tr>\n<tr><td>white         </td><td>male         </td></tr>\n<tr><td>black         </td><td>male         </td></tr>\n</tbody>\n</table>"
     },
     "metadata": {},
     "execution_count": 11
    }
   ],
   "source": [
    "from data_utils import select\n",
    "\n",
    "selected_data: dict[str, list[str]] = select(data_cols, [\"subject_race\", \"subject_sex\"])\n",
    "\n",
    "tabulate(head(selected_data, 10), selected_data.keys(), \"html\")"
   ]
  },
  {
   "cell_type": "markdown",
   "metadata": {},
   "source": [
    "## Part 2. Simple Analysis\n",
    "\n",
    "Now that you have some functions to read, transform, and select your data, let's perform some simple analysis! With categorical data, _counting_ the frequency of values is a common first step toward getting an overview of the column.\n",
    "\n",
    "### 2.0) `count` Function\n",
    "\n",
    "Given a `list[str]`, this function will produce a `dict[str, int]` where each key is a unique value in the given list and each value associated is the _count_ of the number of times that value appeared in the input list.\n",
    "\n",
    "* Function name: `count`\n",
    "* Parameter: `list[str]` - list of values to count the frequencies of\n",
    "* Return Type: `dict[str, int]` - a dictionary of the counts of each of the items in the input list\n",
    "\n",
    "Implementation strategy:\n",
    "\n",
    "1. Establish an empty dictionary to store your built-up result in\n",
    "2. Loop through each item in the input list\n",
    "    1. Check to see if that item has already been established as a key in your dictionary. Try the following boolean conditional: `if <item> in <dict>:` -- replacing `<item>` with the variable name of the current value and `<dict>` with the name of your result dictionary.\n",
    "    2. If the item is found in the dict, that means there is already a key/value pair where the item is a key. Increase the value associated with that key by 1 (counting it!)\n",
    "    3. If the item is not found in the dict, that means this is the first time you are encountering the value and should assign an initial count of `1` to that key in the result dictionary.\n",
    "3. Return the resulting dictionary.\n",
    "\n",
    "After you complete this function, you should see the following counts with the included data set when you evaluate the cell below:\n",
    "\n",
    "~~~\n",
    "race_counts: {'black': 221, 'white': 79, 'hispanic': 42, 'asian/pacific islander': 4, 'other': 1, 'unknown': 1}\n",
    "search_counts: {'FALSE': 319, 'TRUE': 29}\n",
    "~~~"
   ]
  },
  {
   "cell_type": "code",
   "execution_count": 12,
   "metadata": {},
   "outputs": [
    {
     "output_type": "stream",
     "name": "stdout",
     "text": [
      "race_counts: {'black': 221, 'white': 79, 'hispanic': 42, 'asian/pacific islander': 4, 'other': 1, 'unknown': 1}\nsex_counts: {'female': 129, 'male': 219}\n"
     ]
    }
   ],
   "source": [
    "from data_utils import count\n",
    "\n",
    "race_counts: dict[str, int] = count(selected_data[\"subject_race\"])\n",
    "print(f\"race_counts: {race_counts}\")\n",
    "\n",
    "sex_counts: dict[str, int] = count(selected_data[\"subject_sex\"])\n",
    "print(f\"sex_counts: {sex_counts}\")"
   ]
  },
  {
   "cell_type": "markdown",
   "metadata": {},
   "source": [
    "## Bonus Content: Charting with `matplotlib`\n",
    "\n",
    "Once you have completed the functions above, you have completed the requirements of this exercise. However, you should go ahead and read the code in the cell below and try evaluating it for a fun surprise.\n",
    "\n",
    "In these cells, we are taking the data from the counts you produced in the cell above and producing bar charts using the popular `matplotlib` 3rd party visualization library. The exact details of what each line does is beyond the scope of your concerns, but I'll bet you can reason through it!"
   ]
  },
  {
   "cell_type": "code",
   "execution_count": 18,
   "metadata": {},
   "outputs": [
    {
     "output_type": "display_data",
     "data": {
      "text/plain": "<Figure size 864x360 with 2 Axes>",
      "image/svg+xml": "<?xml version=\"1.0\" encoding=\"utf-8\" standalone=\"no\"?>\n<!DOCTYPE svg PUBLIC \"-//W3C//DTD SVG 1.1//EN\"\n  \"http://www.w3.org/Graphics/SVG/1.1/DTD/svg11.dtd\">\n<!-- Created with matplotlib (https://matplotlib.org/) -->\n<svg height=\"410.658701pt\" version=\"1.1\" viewBox=\"0 0 710.0875 410.658701\" width=\"710.0875pt\" xmlns=\"http://www.w3.org/2000/svg\" xmlns:xlink=\"http://www.w3.org/1999/xlink\">\n <metadata>\n  <rdf:RDF xmlns:cc=\"http://creativecommons.org/ns#\" xmlns:dc=\"http://purl.org/dc/elements/1.1/\" xmlns:rdf=\"http://www.w3.org/1999/02/22-rdf-syntax-ns#\">\n   <cc:Work>\n    <dc:type rdf:resource=\"http://purl.org/dc/dcmitype/StillImage\"/>\n    <dc:date>2021-04-06T20:00:54.224144</dc:date>\n    <dc:format>image/svg+xml</dc:format>\n    <dc:creator>\n     <cc:Agent>\n      <dc:title>Matplotlib v3.3.3, https://matplotlib.org/</dc:title>\n     </cc:Agent>\n    </dc:creator>\n   </cc:Work>\n  </rdf:RDF>\n </metadata>\n <defs>\n  <style type=\"text/css\">*{stroke-linecap:butt;stroke-linejoin:round;}</style>\n </defs>\n <g id=\"figure_1\">\n  <g id=\"patch_1\">\n   <path d=\"M 0 410.658701 \nL 710.0875 410.658701 \nL 710.0875 0 \nL 0 0 \nz\n\" style=\"fill:none;\"/>\n  </g>\n  <g id=\"axes_1\">\n   <g id=\"patch_2\">\n    <path d=\"M 33.2875 315 \nL 337.651136 315 \nL 337.651136 43.2 \nL 33.2875 43.2 \nz\n\" style=\"fill:#ffffff;\"/>\n   </g>\n   <g id=\"patch_3\">\n    <path clip-path=\"url(#pedadf8a1fb)\" d=\"M 47.122211 315 \nL 85.28693 315 \nL 85.28693 56.142857 \nL 47.122211 56.142857 \nz\n\" style=\"fill:#1f77b4;\"/>\n   </g>\n   <g id=\"patch_4\">\n    <path clip-path=\"url(#pedadf8a1fb)\" d=\"M 94.82811 315 \nL 132.992829 315 \nL 132.992829 222.467356 \nL 94.82811 222.467356 \nz\n\" style=\"fill:#1f77b4;\"/>\n   </g>\n   <g id=\"patch_5\">\n    <path clip-path=\"url(#pedadf8a1fb)\" d=\"M 142.534009 315 \nL 180.698728 315 \nL 180.698728 265.80543 \nL 142.534009 265.80543 \nz\n\" style=\"fill:#1f77b4;\"/>\n   </g>\n   <g id=\"patch_6\">\n    <path clip-path=\"url(#pedadf8a1fb)\" d=\"M 190.239908 315 \nL 228.404627 315 \nL 228.404627 310.314803 \nL 190.239908 310.314803 \nz\n\" style=\"fill:#1f77b4;\"/>\n   </g>\n   <g id=\"patch_7\">\n    <path clip-path=\"url(#pedadf8a1fb)\" d=\"M 237.945807 315 \nL 276.110527 315 \nL 276.110527 313.828701 \nL 237.945807 313.828701 \nz\n\" style=\"fill:#1f77b4;\"/>\n   </g>\n   <g id=\"patch_8\">\n    <path clip-path=\"url(#pedadf8a1fb)\" d=\"M 285.651706 315 \nL 323.816426 315 \nL 323.816426 313.828701 \nL 285.651706 313.828701 \nz\n\" style=\"fill:#1f77b4;\"/>\n   </g>\n   <g id=\"matplotlib.axis_1\">\n    <g id=\"xtick_1\">\n     <g id=\"line2d_1\">\n      <defs>\n       <path d=\"M 0 0 \nL 0 3.5 \n\" id=\"maf384df3fe\" style=\"stroke:#000000;stroke-width:0.8;\"/>\n      </defs>\n      <g>\n       <use style=\"stroke:#000000;stroke-width:0.8;\" x=\"66.20457\" xlink:href=\"#maf384df3fe\" y=\"315\"/>\n      </g>\n     </g>\n     <g id=\"text_1\">\n      <!-- black -->\n      <g transform=\"translate(58.77111 346.142172)rotate(-45)scale(0.1 -0.1)\">\n       <defs>\n        <path d=\"M 48.6875 27.296875 \nQ 48.6875 37.203125 44.609375 42.84375 \nQ 40.53125 48.484375 33.40625 48.484375 \nQ 26.265625 48.484375 22.1875 42.84375 \nQ 18.109375 37.203125 18.109375 27.296875 \nQ 18.109375 17.390625 22.1875 11.75 \nQ 26.265625 6.109375 33.40625 6.109375 \nQ 40.53125 6.109375 44.609375 11.75 \nQ 48.6875 17.390625 48.6875 27.296875 \nz\nM 18.109375 46.390625 \nQ 20.953125 51.265625 25.265625 53.625 \nQ 29.59375 56 35.59375 56 \nQ 45.5625 56 51.78125 48.09375 \nQ 58.015625 40.1875 58.015625 27.296875 \nQ 58.015625 14.40625 51.78125 6.484375 \nQ 45.5625 -1.421875 35.59375 -1.421875 \nQ 29.59375 -1.421875 25.265625 0.953125 \nQ 20.953125 3.328125 18.109375 8.203125 \nL 18.109375 0 \nL 9.078125 0 \nL 9.078125 75.984375 \nL 18.109375 75.984375 \nz\n\" id=\"DejaVuSans-98\"/>\n        <path d=\"M 9.421875 75.984375 \nL 18.40625 75.984375 \nL 18.40625 0 \nL 9.421875 0 \nz\n\" id=\"DejaVuSans-108\"/>\n        <path d=\"M 34.28125 27.484375 \nQ 23.390625 27.484375 19.1875 25 \nQ 14.984375 22.515625 14.984375 16.5 \nQ 14.984375 11.71875 18.140625 8.90625 \nQ 21.296875 6.109375 26.703125 6.109375 \nQ 34.1875 6.109375 38.703125 11.40625 \nQ 43.21875 16.703125 43.21875 25.484375 \nL 43.21875 27.484375 \nz\nM 52.203125 31.203125 \nL 52.203125 0 \nL 43.21875 0 \nL 43.21875 8.296875 \nQ 40.140625 3.328125 35.546875 0.953125 \nQ 30.953125 -1.421875 24.3125 -1.421875 \nQ 15.921875 -1.421875 10.953125 3.296875 \nQ 6 8.015625 6 15.921875 \nQ 6 25.140625 12.171875 29.828125 \nQ 18.359375 34.515625 30.609375 34.515625 \nL 43.21875 34.515625 \nL 43.21875 35.40625 \nQ 43.21875 41.609375 39.140625 45 \nQ 35.0625 48.390625 27.6875 48.390625 \nQ 23 48.390625 18.546875 47.265625 \nQ 14.109375 46.140625 10.015625 43.890625 \nL 10.015625 52.203125 \nQ 14.9375 54.109375 19.578125 55.046875 \nQ 24.21875 56 28.609375 56 \nQ 40.484375 56 46.34375 49.84375 \nQ 52.203125 43.703125 52.203125 31.203125 \nz\n\" id=\"DejaVuSans-97\"/>\n        <path d=\"M 48.78125 52.59375 \nL 48.78125 44.1875 \nQ 44.96875 46.296875 41.140625 47.34375 \nQ 37.3125 48.390625 33.40625 48.390625 \nQ 24.65625 48.390625 19.8125 42.84375 \nQ 14.984375 37.3125 14.984375 27.296875 \nQ 14.984375 17.28125 19.8125 11.734375 \nQ 24.65625 6.203125 33.40625 6.203125 \nQ 37.3125 6.203125 41.140625 7.25 \nQ 44.96875 8.296875 48.78125 10.40625 \nL 48.78125 2.09375 \nQ 45.015625 0.34375 40.984375 -0.53125 \nQ 36.96875 -1.421875 32.421875 -1.421875 \nQ 20.0625 -1.421875 12.78125 6.34375 \nQ 5.515625 14.109375 5.515625 27.296875 \nQ 5.515625 40.671875 12.859375 48.328125 \nQ 20.21875 56 33.015625 56 \nQ 37.15625 56 41.109375 55.140625 \nQ 45.0625 54.296875 48.78125 52.59375 \nz\n\" id=\"DejaVuSans-99\"/>\n        <path d=\"M 9.078125 75.984375 \nL 18.109375 75.984375 \nL 18.109375 31.109375 \nL 44.921875 54.6875 \nL 56.390625 54.6875 \nL 27.390625 29.109375 \nL 57.625 0 \nL 45.90625 0 \nL 18.109375 26.703125 \nL 18.109375 0 \nL 9.078125 0 \nz\n\" id=\"DejaVuSans-107\"/>\n       </defs>\n       <use xlink:href=\"#DejaVuSans-98\"/>\n       <use x=\"63.476562\" xlink:href=\"#DejaVuSans-108\"/>\n       <use x=\"91.259766\" xlink:href=\"#DejaVuSans-97\"/>\n       <use x=\"152.539062\" xlink:href=\"#DejaVuSans-99\"/>\n       <use x=\"207.519531\" xlink:href=\"#DejaVuSans-107\"/>\n      </g>\n     </g>\n    </g>\n    <g id=\"xtick_2\">\n     <g id=\"line2d_2\">\n      <g>\n       <use style=\"stroke:#000000;stroke-width:0.8;\" x=\"113.91047\" xlink:href=\"#maf384df3fe\" y=\"315\"/>\n      </g>\n     </g>\n     <g id=\"text_2\">\n      <!-- white -->\n      <g transform=\"translate(106.18588 346.724431)rotate(-45)scale(0.1 -0.1)\">\n       <defs>\n        <path d=\"M 4.203125 54.6875 \nL 13.1875 54.6875 \nL 24.421875 12.015625 \nL 35.59375 54.6875 \nL 46.1875 54.6875 \nL 57.421875 12.015625 \nL 68.609375 54.6875 \nL 77.59375 54.6875 \nL 63.28125 0 \nL 52.6875 0 \nL 40.921875 44.828125 \nL 29.109375 0 \nL 18.5 0 \nz\n\" id=\"DejaVuSans-119\"/>\n        <path d=\"M 54.890625 33.015625 \nL 54.890625 0 \nL 45.90625 0 \nL 45.90625 32.71875 \nQ 45.90625 40.484375 42.875 44.328125 \nQ 39.84375 48.1875 33.796875 48.1875 \nQ 26.515625 48.1875 22.3125 43.546875 \nQ 18.109375 38.921875 18.109375 30.90625 \nL 18.109375 0 \nL 9.078125 0 \nL 9.078125 75.984375 \nL 18.109375 75.984375 \nL 18.109375 46.1875 \nQ 21.34375 51.125 25.703125 53.5625 \nQ 30.078125 56 35.796875 56 \nQ 45.21875 56 50.046875 50.171875 \nQ 54.890625 44.34375 54.890625 33.015625 \nz\n\" id=\"DejaVuSans-104\"/>\n        <path d=\"M 9.421875 54.6875 \nL 18.40625 54.6875 \nL 18.40625 0 \nL 9.421875 0 \nz\nM 9.421875 75.984375 \nL 18.40625 75.984375 \nL 18.40625 64.59375 \nL 9.421875 64.59375 \nz\n\" id=\"DejaVuSans-105\"/>\n        <path d=\"M 18.3125 70.21875 \nL 18.3125 54.6875 \nL 36.8125 54.6875 \nL 36.8125 47.703125 \nL 18.3125 47.703125 \nL 18.3125 18.015625 \nQ 18.3125 11.328125 20.140625 9.421875 \nQ 21.96875 7.515625 27.59375 7.515625 \nL 36.8125 7.515625 \nL 36.8125 0 \nL 27.59375 0 \nQ 17.1875 0 13.234375 3.875 \nQ 9.28125 7.765625 9.28125 18.015625 \nL 9.28125 47.703125 \nL 2.6875 47.703125 \nL 2.6875 54.6875 \nL 9.28125 54.6875 \nL 9.28125 70.21875 \nz\n\" id=\"DejaVuSans-116\"/>\n        <path d=\"M 56.203125 29.59375 \nL 56.203125 25.203125 \nL 14.890625 25.203125 \nQ 15.484375 15.921875 20.484375 11.0625 \nQ 25.484375 6.203125 34.421875 6.203125 \nQ 39.59375 6.203125 44.453125 7.46875 \nQ 49.3125 8.734375 54.109375 11.28125 \nL 54.109375 2.78125 \nQ 49.265625 0.734375 44.1875 -0.34375 \nQ 39.109375 -1.421875 33.890625 -1.421875 \nQ 20.796875 -1.421875 13.15625 6.1875 \nQ 5.515625 13.8125 5.515625 26.8125 \nQ 5.515625 40.234375 12.765625 48.109375 \nQ 20.015625 56 32.328125 56 \nQ 43.359375 56 49.78125 48.890625 \nQ 56.203125 41.796875 56.203125 29.59375 \nz\nM 47.21875 32.234375 \nQ 47.125 39.59375 43.09375 43.984375 \nQ 39.0625 48.390625 32.421875 48.390625 \nQ 24.90625 48.390625 20.390625 44.140625 \nQ 15.875 39.890625 15.1875 32.171875 \nz\n\" id=\"DejaVuSans-101\"/>\n       </defs>\n       <use xlink:href=\"#DejaVuSans-119\"/>\n       <use x=\"81.787109\" xlink:href=\"#DejaVuSans-104\"/>\n       <use x=\"145.166016\" xlink:href=\"#DejaVuSans-105\"/>\n       <use x=\"172.949219\" xlink:href=\"#DejaVuSans-116\"/>\n       <use x=\"212.158203\" xlink:href=\"#DejaVuSans-101\"/>\n      </g>\n     </g>\n    </g>\n    <g id=\"xtick_3\">\n     <g id=\"line2d_3\">\n      <g>\n       <use style=\"stroke:#000000;stroke-width:0.8;\" x=\"161.616369\" xlink:href=\"#maf384df3fe\" y=\"315\"/>\n      </g>\n     </g>\n     <g id=\"text_3\">\n      <!-- hispanic -->\n      <g transform=\"translate(148.924907 356.658176)rotate(-45)scale(0.1 -0.1)\">\n       <defs>\n        <path d=\"M 44.28125 53.078125 \nL 44.28125 44.578125 \nQ 40.484375 46.53125 36.375 47.5 \nQ 32.28125 48.484375 27.875 48.484375 \nQ 21.1875 48.484375 17.84375 46.4375 \nQ 14.5 44.390625 14.5 40.28125 \nQ 14.5 37.15625 16.890625 35.375 \nQ 19.28125 33.59375 26.515625 31.984375 \nL 29.59375 31.296875 \nQ 39.15625 29.25 43.1875 25.515625 \nQ 47.21875 21.78125 47.21875 15.09375 \nQ 47.21875 7.46875 41.1875 3.015625 \nQ 35.15625 -1.421875 24.609375 -1.421875 \nQ 20.21875 -1.421875 15.453125 -0.5625 \nQ 10.6875 0.296875 5.421875 2 \nL 5.421875 11.28125 \nQ 10.40625 8.6875 15.234375 7.390625 \nQ 20.0625 6.109375 24.8125 6.109375 \nQ 31.15625 6.109375 34.5625 8.28125 \nQ 37.984375 10.453125 37.984375 14.40625 \nQ 37.984375 18.0625 35.515625 20.015625 \nQ 33.0625 21.96875 24.703125 23.78125 \nL 21.578125 24.515625 \nQ 13.234375 26.265625 9.515625 29.90625 \nQ 5.8125 33.546875 5.8125 39.890625 \nQ 5.8125 47.609375 11.28125 51.796875 \nQ 16.75 56 26.8125 56 \nQ 31.78125 56 36.171875 55.265625 \nQ 40.578125 54.546875 44.28125 53.078125 \nz\n\" id=\"DejaVuSans-115\"/>\n        <path d=\"M 18.109375 8.203125 \nL 18.109375 -20.796875 \nL 9.078125 -20.796875 \nL 9.078125 54.6875 \nL 18.109375 54.6875 \nL 18.109375 46.390625 \nQ 20.953125 51.265625 25.265625 53.625 \nQ 29.59375 56 35.59375 56 \nQ 45.5625 56 51.78125 48.09375 \nQ 58.015625 40.1875 58.015625 27.296875 \nQ 58.015625 14.40625 51.78125 6.484375 \nQ 45.5625 -1.421875 35.59375 -1.421875 \nQ 29.59375 -1.421875 25.265625 0.953125 \nQ 20.953125 3.328125 18.109375 8.203125 \nz\nM 48.6875 27.296875 \nQ 48.6875 37.203125 44.609375 42.84375 \nQ 40.53125 48.484375 33.40625 48.484375 \nQ 26.265625 48.484375 22.1875 42.84375 \nQ 18.109375 37.203125 18.109375 27.296875 \nQ 18.109375 17.390625 22.1875 11.75 \nQ 26.265625 6.109375 33.40625 6.109375 \nQ 40.53125 6.109375 44.609375 11.75 \nQ 48.6875 17.390625 48.6875 27.296875 \nz\n\" id=\"DejaVuSans-112\"/>\n        <path d=\"M 54.890625 33.015625 \nL 54.890625 0 \nL 45.90625 0 \nL 45.90625 32.71875 \nQ 45.90625 40.484375 42.875 44.328125 \nQ 39.84375 48.1875 33.796875 48.1875 \nQ 26.515625 48.1875 22.3125 43.546875 \nQ 18.109375 38.921875 18.109375 30.90625 \nL 18.109375 0 \nL 9.078125 0 \nL 9.078125 54.6875 \nL 18.109375 54.6875 \nL 18.109375 46.1875 \nQ 21.34375 51.125 25.703125 53.5625 \nQ 30.078125 56 35.796875 56 \nQ 45.21875 56 50.046875 50.171875 \nQ 54.890625 44.34375 54.890625 33.015625 \nz\n\" id=\"DejaVuSans-110\"/>\n       </defs>\n       <use xlink:href=\"#DejaVuSans-104\"/>\n       <use x=\"63.378906\" xlink:href=\"#DejaVuSans-105\"/>\n       <use x=\"91.162109\" xlink:href=\"#DejaVuSans-115\"/>\n       <use x=\"143.261719\" xlink:href=\"#DejaVuSans-112\"/>\n       <use x=\"206.738281\" xlink:href=\"#DejaVuSans-97\"/>\n       <use x=\"268.017578\" xlink:href=\"#DejaVuSans-110\"/>\n       <use x=\"331.396484\" xlink:href=\"#DejaVuSans-105\"/>\n       <use x=\"359.179688\" xlink:href=\"#DejaVuSans-99\"/>\n      </g>\n     </g>\n    </g>\n    <g id=\"xtick_4\">\n     <g id=\"line2d_4\">\n      <g>\n       <use style=\"stroke:#000000;stroke-width:0.8;\" x=\"209.322268\" xlink:href=\"#maf384df3fe\" y=\"315\"/>\n      </g>\n     </g>\n     <g id=\"text_4\">\n      <!-- asian/pacific islander -->\n      <g transform=\"translate(173.965824 401.98814)rotate(-45)scale(0.1 -0.1)\">\n       <defs>\n        <path d=\"M 25.390625 72.90625 \nL 33.6875 72.90625 \nL 8.296875 -9.28125 \nL 0 -9.28125 \nz\n\" id=\"DejaVuSans-47\"/>\n        <path d=\"M 37.109375 75.984375 \nL 37.109375 68.5 \nL 28.515625 68.5 \nQ 23.6875 68.5 21.796875 66.546875 \nQ 19.921875 64.59375 19.921875 59.515625 \nL 19.921875 54.6875 \nL 34.71875 54.6875 \nL 34.71875 47.703125 \nL 19.921875 47.703125 \nL 19.921875 0 \nL 10.890625 0 \nL 10.890625 47.703125 \nL 2.296875 47.703125 \nL 2.296875 54.6875 \nL 10.890625 54.6875 \nL 10.890625 58.5 \nQ 10.890625 67.625 15.140625 71.796875 \nQ 19.390625 75.984375 28.609375 75.984375 \nz\n\" id=\"DejaVuSans-102\"/>\n        <path id=\"DejaVuSans-32\"/>\n        <path d=\"M 45.40625 46.390625 \nL 45.40625 75.984375 \nL 54.390625 75.984375 \nL 54.390625 0 \nL 45.40625 0 \nL 45.40625 8.203125 \nQ 42.578125 3.328125 38.25 0.953125 \nQ 33.9375 -1.421875 27.875 -1.421875 \nQ 17.96875 -1.421875 11.734375 6.484375 \nQ 5.515625 14.40625 5.515625 27.296875 \nQ 5.515625 40.1875 11.734375 48.09375 \nQ 17.96875 56 27.875 56 \nQ 33.9375 56 38.25 53.625 \nQ 42.578125 51.265625 45.40625 46.390625 \nz\nM 14.796875 27.296875 \nQ 14.796875 17.390625 18.875 11.75 \nQ 22.953125 6.109375 30.078125 6.109375 \nQ 37.203125 6.109375 41.296875 11.75 \nQ 45.40625 17.390625 45.40625 27.296875 \nQ 45.40625 37.203125 41.296875 42.84375 \nQ 37.203125 48.484375 30.078125 48.484375 \nQ 22.953125 48.484375 18.875 42.84375 \nQ 14.796875 37.203125 14.796875 27.296875 \nz\n\" id=\"DejaVuSans-100\"/>\n        <path d=\"M 41.109375 46.296875 \nQ 39.59375 47.171875 37.8125 47.578125 \nQ 36.03125 48 33.890625 48 \nQ 26.265625 48 22.1875 43.046875 \nQ 18.109375 38.09375 18.109375 28.8125 \nL 18.109375 0 \nL 9.078125 0 \nL 9.078125 54.6875 \nL 18.109375 54.6875 \nL 18.109375 46.1875 \nQ 20.953125 51.171875 25.484375 53.578125 \nQ 30.03125 56 36.53125 56 \nQ 37.453125 56 38.578125 55.875 \nQ 39.703125 55.765625 41.0625 55.515625 \nz\n\" id=\"DejaVuSans-114\"/>\n       </defs>\n       <use xlink:href=\"#DejaVuSans-97\"/>\n       <use x=\"61.279297\" xlink:href=\"#DejaVuSans-115\"/>\n       <use x=\"113.378906\" xlink:href=\"#DejaVuSans-105\"/>\n       <use x=\"141.162109\" xlink:href=\"#DejaVuSans-97\"/>\n       <use x=\"202.441406\" xlink:href=\"#DejaVuSans-110\"/>\n       <use x=\"265.820312\" xlink:href=\"#DejaVuSans-47\"/>\n       <use x=\"299.511719\" xlink:href=\"#DejaVuSans-112\"/>\n       <use x=\"362.988281\" xlink:href=\"#DejaVuSans-97\"/>\n       <use x=\"424.267578\" xlink:href=\"#DejaVuSans-99\"/>\n       <use x=\"479.248047\" xlink:href=\"#DejaVuSans-105\"/>\n       <use x=\"507.03125\" xlink:href=\"#DejaVuSans-102\"/>\n       <use x=\"542.236328\" xlink:href=\"#DejaVuSans-105\"/>\n       <use x=\"570.019531\" xlink:href=\"#DejaVuSans-99\"/>\n       <use x=\"625\" xlink:href=\"#DejaVuSans-32\"/>\n       <use x=\"656.787109\" xlink:href=\"#DejaVuSans-105\"/>\n       <use x=\"684.570312\" xlink:href=\"#DejaVuSans-115\"/>\n       <use x=\"736.669922\" xlink:href=\"#DejaVuSans-108\"/>\n       <use x=\"764.453125\" xlink:href=\"#DejaVuSans-97\"/>\n       <use x=\"825.732422\" xlink:href=\"#DejaVuSans-110\"/>\n       <use x=\"889.111328\" xlink:href=\"#DejaVuSans-100\"/>\n       <use x=\"952.587891\" xlink:href=\"#DejaVuSans-101\"/>\n       <use x=\"1014.111328\" xlink:href=\"#DejaVuSans-114\"/>\n      </g>\n     </g>\n    </g>\n    <g id=\"xtick_5\">\n     <g id=\"line2d_5\">\n      <g>\n       <use style=\"stroke:#000000;stroke-width:0.8;\" x=\"257.028167\" xlink:href=\"#maf384df3fe\" y=\"315\"/>\n      </g>\n     </g>\n     <g id=\"text_5\">\n      <!-- other -->\n      <g transform=\"translate(249.560456 346.210673)rotate(-45)scale(0.1 -0.1)\">\n       <defs>\n        <path d=\"M 30.609375 48.390625 \nQ 23.390625 48.390625 19.1875 42.75 \nQ 14.984375 37.109375 14.984375 27.296875 \nQ 14.984375 17.484375 19.15625 11.84375 \nQ 23.34375 6.203125 30.609375 6.203125 \nQ 37.796875 6.203125 41.984375 11.859375 \nQ 46.1875 17.53125 46.1875 27.296875 \nQ 46.1875 37.015625 41.984375 42.703125 \nQ 37.796875 48.390625 30.609375 48.390625 \nz\nM 30.609375 56 \nQ 42.328125 56 49.015625 48.375 \nQ 55.71875 40.765625 55.71875 27.296875 \nQ 55.71875 13.875 49.015625 6.21875 \nQ 42.328125 -1.421875 30.609375 -1.421875 \nQ 18.84375 -1.421875 12.171875 6.21875 \nQ 5.515625 13.875 5.515625 27.296875 \nQ 5.515625 40.765625 12.171875 48.375 \nQ 18.84375 56 30.609375 56 \nz\n\" id=\"DejaVuSans-111\"/>\n       </defs>\n       <use xlink:href=\"#DejaVuSans-111\"/>\n       <use x=\"61.181641\" xlink:href=\"#DejaVuSans-116\"/>\n       <use x=\"100.390625\" xlink:href=\"#DejaVuSans-104\"/>\n       <use x=\"163.769531\" xlink:href=\"#DejaVuSans-101\"/>\n       <use x=\"225.292969\" xlink:href=\"#DejaVuSans-114\"/>\n      </g>\n     </g>\n    </g>\n    <g id=\"xtick_6\">\n     <g id=\"line2d_6\">\n      <g>\n       <use style=\"stroke:#000000;stroke-width:0.8;\" x=\"304.734066\" xlink:href=\"#maf384df3fe\" y=\"315\"/>\n      </g>\n     </g>\n     <g id=\"text_6\">\n      <!-- unknown -->\n      <g transform=\"translate(290.620657 359.502071)rotate(-45)scale(0.1 -0.1)\">\n       <defs>\n        <path d=\"M 8.5 21.578125 \nL 8.5 54.6875 \nL 17.484375 54.6875 \nL 17.484375 21.921875 \nQ 17.484375 14.15625 20.5 10.265625 \nQ 23.53125 6.390625 29.59375 6.390625 \nQ 36.859375 6.390625 41.078125 11.03125 \nQ 45.3125 15.671875 45.3125 23.6875 \nL 45.3125 54.6875 \nL 54.296875 54.6875 \nL 54.296875 0 \nL 45.3125 0 \nL 45.3125 8.40625 \nQ 42.046875 3.421875 37.71875 1 \nQ 33.40625 -1.421875 27.6875 -1.421875 \nQ 18.265625 -1.421875 13.375 4.4375 \nQ 8.5 10.296875 8.5 21.578125 \nz\nM 31.109375 56 \nz\n\" id=\"DejaVuSans-117\"/>\n       </defs>\n       <use xlink:href=\"#DejaVuSans-117\"/>\n       <use x=\"63.378906\" xlink:href=\"#DejaVuSans-110\"/>\n       <use x=\"126.757812\" xlink:href=\"#DejaVuSans-107\"/>\n       <use x=\"184.667969\" xlink:href=\"#DejaVuSans-110\"/>\n       <use x=\"248.046875\" xlink:href=\"#DejaVuSans-111\"/>\n       <use x=\"309.228516\" xlink:href=\"#DejaVuSans-119\"/>\n       <use x=\"391.015625\" xlink:href=\"#DejaVuSans-110\"/>\n      </g>\n     </g>\n    </g>\n   </g>\n   <g id=\"matplotlib.axis_2\">\n    <g id=\"ytick_1\">\n     <g id=\"line2d_7\">\n      <defs>\n       <path d=\"M 0 0 \nL -3.5 0 \n\" id=\"m6a542de435\" style=\"stroke:#000000;stroke-width:0.8;\"/>\n      </defs>\n      <g>\n       <use style=\"stroke:#000000;stroke-width:0.8;\" x=\"33.2875\" xlink:href=\"#m6a542de435\" y=\"315\"/>\n      </g>\n     </g>\n     <g id=\"text_7\">\n      <!-- 0 -->\n      <g transform=\"translate(19.925 318.799219)scale(0.1 -0.1)\">\n       <defs>\n        <path d=\"M 31.78125 66.40625 \nQ 24.171875 66.40625 20.328125 58.90625 \nQ 16.5 51.421875 16.5 36.375 \nQ 16.5 21.390625 20.328125 13.890625 \nQ 24.171875 6.390625 31.78125 6.390625 \nQ 39.453125 6.390625 43.28125 13.890625 \nQ 47.125 21.390625 47.125 36.375 \nQ 47.125 51.421875 43.28125 58.90625 \nQ 39.453125 66.40625 31.78125 66.40625 \nz\nM 31.78125 74.21875 \nQ 44.046875 74.21875 50.515625 64.515625 \nQ 56.984375 54.828125 56.984375 36.375 \nQ 56.984375 17.96875 50.515625 8.265625 \nQ 44.046875 -1.421875 31.78125 -1.421875 \nQ 19.53125 -1.421875 13.0625 8.265625 \nQ 6.59375 17.96875 6.59375 36.375 \nQ 6.59375 54.828125 13.0625 64.515625 \nQ 19.53125 74.21875 31.78125 74.21875 \nz\n\" id=\"DejaVuSans-48\"/>\n       </defs>\n       <use xlink:href=\"#DejaVuSans-48\"/>\n      </g>\n     </g>\n    </g>\n    <g id=\"ytick_2\">\n     <g id=\"line2d_8\">\n      <g>\n       <use style=\"stroke:#000000;stroke-width:0.8;\" x=\"33.2875\" xlink:href=\"#m6a542de435\" y=\"256.435036\"/>\n      </g>\n     </g>\n     <g id=\"text_8\">\n      <!-- 50 -->\n      <g transform=\"translate(13.5625 260.234254)scale(0.1 -0.1)\">\n       <defs>\n        <path d=\"M 10.796875 72.90625 \nL 49.515625 72.90625 \nL 49.515625 64.59375 \nL 19.828125 64.59375 \nL 19.828125 46.734375 \nQ 21.96875 47.46875 24.109375 47.828125 \nQ 26.265625 48.1875 28.421875 48.1875 \nQ 40.625 48.1875 47.75 41.5 \nQ 54.890625 34.8125 54.890625 23.390625 \nQ 54.890625 11.625 47.5625 5.09375 \nQ 40.234375 -1.421875 26.90625 -1.421875 \nQ 22.3125 -1.421875 17.546875 -0.640625 \nQ 12.796875 0.140625 7.71875 1.703125 \nL 7.71875 11.625 \nQ 12.109375 9.234375 16.796875 8.0625 \nQ 21.484375 6.890625 26.703125 6.890625 \nQ 35.15625 6.890625 40.078125 11.328125 \nQ 45.015625 15.765625 45.015625 23.390625 \nQ 45.015625 31 40.078125 35.4375 \nQ 35.15625 39.890625 26.703125 39.890625 \nQ 22.75 39.890625 18.8125 39.015625 \nQ 14.890625 38.140625 10.796875 36.28125 \nz\n\" id=\"DejaVuSans-53\"/>\n       </defs>\n       <use xlink:href=\"#DejaVuSans-53\"/>\n       <use x=\"63.623047\" xlink:href=\"#DejaVuSans-48\"/>\n      </g>\n     </g>\n    </g>\n    <g id=\"ytick_3\">\n     <g id=\"line2d_9\">\n      <g>\n       <use style=\"stroke:#000000;stroke-width:0.8;\" x=\"33.2875\" xlink:href=\"#m6a542de435\" y=\"197.870071\"/>\n      </g>\n     </g>\n     <g id=\"text_9\">\n      <!-- 100 -->\n      <g transform=\"translate(7.2 201.66929)scale(0.1 -0.1)\">\n       <defs>\n        <path d=\"M 12.40625 8.296875 \nL 28.515625 8.296875 \nL 28.515625 63.921875 \nL 10.984375 60.40625 \nL 10.984375 69.390625 \nL 28.421875 72.90625 \nL 38.28125 72.90625 \nL 38.28125 8.296875 \nL 54.390625 8.296875 \nL 54.390625 0 \nL 12.40625 0 \nz\n\" id=\"DejaVuSans-49\"/>\n       </defs>\n       <use xlink:href=\"#DejaVuSans-49\"/>\n       <use x=\"63.623047\" xlink:href=\"#DejaVuSans-48\"/>\n       <use x=\"127.246094\" xlink:href=\"#DejaVuSans-48\"/>\n      </g>\n     </g>\n    </g>\n    <g id=\"ytick_4\">\n     <g id=\"line2d_10\">\n      <g>\n       <use style=\"stroke:#000000;stroke-width:0.8;\" x=\"33.2875\" xlink:href=\"#m6a542de435\" y=\"139.305107\"/>\n      </g>\n     </g>\n     <g id=\"text_10\">\n      <!-- 150 -->\n      <g transform=\"translate(7.2 143.104325)scale(0.1 -0.1)\">\n       <use xlink:href=\"#DejaVuSans-49\"/>\n       <use x=\"63.623047\" xlink:href=\"#DejaVuSans-53\"/>\n       <use x=\"127.246094\" xlink:href=\"#DejaVuSans-48\"/>\n      </g>\n     </g>\n    </g>\n    <g id=\"ytick_5\">\n     <g id=\"line2d_11\">\n      <g>\n       <use style=\"stroke:#000000;stroke-width:0.8;\" x=\"33.2875\" xlink:href=\"#m6a542de435\" y=\"80.740142\"/>\n      </g>\n     </g>\n     <g id=\"text_11\">\n      <!-- 200 -->\n      <g transform=\"translate(7.2 84.539361)scale(0.1 -0.1)\">\n       <defs>\n        <path d=\"M 19.1875 8.296875 \nL 53.609375 8.296875 \nL 53.609375 0 \nL 7.328125 0 \nL 7.328125 8.296875 \nQ 12.9375 14.109375 22.625 23.890625 \nQ 32.328125 33.6875 34.8125 36.53125 \nQ 39.546875 41.84375 41.421875 45.53125 \nQ 43.3125 49.21875 43.3125 52.78125 \nQ 43.3125 58.59375 39.234375 62.25 \nQ 35.15625 65.921875 28.609375 65.921875 \nQ 23.96875 65.921875 18.8125 64.3125 \nQ 13.671875 62.703125 7.8125 59.421875 \nL 7.8125 69.390625 \nQ 13.765625 71.78125 18.9375 73 \nQ 24.125 74.21875 28.421875 74.21875 \nQ 39.75 74.21875 46.484375 68.546875 \nQ 53.21875 62.890625 53.21875 53.421875 \nQ 53.21875 48.921875 51.53125 44.890625 \nQ 49.859375 40.875 45.40625 35.40625 \nQ 44.1875 33.984375 37.640625 27.21875 \nQ 31.109375 20.453125 19.1875 8.296875 \nz\n\" id=\"DejaVuSans-50\"/>\n       </defs>\n       <use xlink:href=\"#DejaVuSans-50\"/>\n       <use x=\"63.623047\" xlink:href=\"#DejaVuSans-48\"/>\n       <use x=\"127.246094\" xlink:href=\"#DejaVuSans-48\"/>\n      </g>\n     </g>\n    </g>\n   </g>\n   <g id=\"patch_9\">\n    <path d=\"M 33.2875 315 \nL 33.2875 43.2 \n\" style=\"fill:none;stroke:#000000;stroke-linecap:square;stroke-linejoin:miter;stroke-width:0.8;\"/>\n   </g>\n   <g id=\"patch_10\">\n    <path d=\"M 337.651136 315 \nL 337.651136 43.2 \n\" style=\"fill:none;stroke:#000000;stroke-linecap:square;stroke-linejoin:miter;stroke-width:0.8;\"/>\n   </g>\n   <g id=\"patch_11\">\n    <path d=\"M 33.2875 315 \nL 337.651136 315 \n\" style=\"fill:none;stroke:#000000;stroke-linecap:square;stroke-linejoin:miter;stroke-width:0.8;\"/>\n   </g>\n   <g id=\"patch_12\">\n    <path d=\"M 33.2875 43.2 \nL 337.651136 43.2 \n\" style=\"fill:none;stroke:#000000;stroke-linecap:square;stroke-linejoin:miter;stroke-width:0.8;\"/>\n   </g>\n   <g id=\"text_12\">\n    <!-- By Race -->\n    <g transform=\"translate(161.192756 37.2)scale(0.12 -0.12)\">\n     <defs>\n      <path d=\"M 19.671875 34.8125 \nL 19.671875 8.109375 \nL 35.5 8.109375 \nQ 43.453125 8.109375 47.28125 11.40625 \nQ 51.125 14.703125 51.125 21.484375 \nQ 51.125 28.328125 47.28125 31.5625 \nQ 43.453125 34.8125 35.5 34.8125 \nz\nM 19.671875 64.796875 \nL 19.671875 42.828125 \nL 34.28125 42.828125 \nQ 41.5 42.828125 45.03125 45.53125 \nQ 48.578125 48.25 48.578125 53.8125 \nQ 48.578125 59.328125 45.03125 62.0625 \nQ 41.5 64.796875 34.28125 64.796875 \nz\nM 9.8125 72.90625 \nL 35.015625 72.90625 \nQ 46.296875 72.90625 52.390625 68.21875 \nQ 58.5 63.53125 58.5 54.890625 \nQ 58.5 48.1875 55.375 44.234375 \nQ 52.25 40.28125 46.1875 39.3125 \nQ 53.46875 37.75 57.5 32.78125 \nQ 61.53125 27.828125 61.53125 20.40625 \nQ 61.53125 10.640625 54.890625 5.3125 \nQ 48.25 0 35.984375 0 \nL 9.8125 0 \nz\n\" id=\"DejaVuSans-66\"/>\n      <path d=\"M 32.171875 -5.078125 \nQ 28.375 -14.84375 24.75 -17.8125 \nQ 21.140625 -20.796875 15.09375 -20.796875 \nL 7.90625 -20.796875 \nL 7.90625 -13.28125 \nL 13.1875 -13.28125 \nQ 16.890625 -13.28125 18.9375 -11.515625 \nQ 21 -9.765625 23.484375 -3.21875 \nL 25.09375 0.875 \nL 2.984375 54.6875 \nL 12.5 54.6875 \nL 29.59375 11.921875 \nL 46.6875 54.6875 \nL 56.203125 54.6875 \nz\n\" id=\"DejaVuSans-121\"/>\n      <path d=\"M 44.390625 34.1875 \nQ 47.5625 33.109375 50.5625 29.59375 \nQ 53.5625 26.078125 56.59375 19.921875 \nL 66.609375 0 \nL 56 0 \nL 46.6875 18.703125 \nQ 43.0625 26.03125 39.671875 28.421875 \nQ 36.28125 30.8125 30.421875 30.8125 \nL 19.671875 30.8125 \nL 19.671875 0 \nL 9.8125 0 \nL 9.8125 72.90625 \nL 32.078125 72.90625 \nQ 44.578125 72.90625 50.734375 67.671875 \nQ 56.890625 62.453125 56.890625 51.90625 \nQ 56.890625 45.015625 53.6875 40.46875 \nQ 50.484375 35.9375 44.390625 34.1875 \nz\nM 19.671875 64.796875 \nL 19.671875 38.921875 \nL 32.078125 38.921875 \nQ 39.203125 38.921875 42.84375 42.21875 \nQ 46.484375 45.515625 46.484375 51.90625 \nQ 46.484375 58.296875 42.84375 61.546875 \nQ 39.203125 64.796875 32.078125 64.796875 \nz\n\" id=\"DejaVuSans-82\"/>\n     </defs>\n     <use xlink:href=\"#DejaVuSans-66\"/>\n     <use x=\"68.603516\" xlink:href=\"#DejaVuSans-121\"/>\n     <use x=\"127.783203\" xlink:href=\"#DejaVuSans-32\"/>\n     <use x=\"159.570312\" xlink:href=\"#DejaVuSans-82\"/>\n     <use x=\"226.802734\" xlink:href=\"#DejaVuSans-97\"/>\n     <use x=\"288.082031\" xlink:href=\"#DejaVuSans-99\"/>\n     <use x=\"343.0625\" xlink:href=\"#DejaVuSans-101\"/>\n    </g>\n   </g>\n  </g>\n  <g id=\"axes_2\">\n   <g id=\"patch_13\">\n    <path d=\"M 398.523864 315 \nL 702.8875 315 \nL 702.8875 43.2 \nL 398.523864 43.2 \nz\n\" style=\"fill:#ffffff;\"/>\n   </g>\n   <g id=\"patch_14\">\n    <path clip-path=\"url(#p5aea5f0273)\" d=\"M 412.358574 315 \nL 535.333781 315 \nL 535.333781 163.902392 \nL 412.358574 163.902392 \nz\n\" style=\"fill:#1f77b4;\"/>\n   </g>\n   <g id=\"patch_15\">\n    <path clip-path=\"url(#p5aea5f0273)\" d=\"M 566.077583 315 \nL 689.052789 315 \nL 689.052789 58.485456 \nL 566.077583 58.485456 \nz\n\" style=\"fill:#1f77b4;\"/>\n   </g>\n   <g id=\"matplotlib.axis_3\">\n    <g id=\"xtick_7\">\n     <g id=\"line2d_12\">\n      <g>\n       <use style=\"stroke:#000000;stroke-width:0.8;\" x=\"473.846178\" xlink:href=\"#maf384df3fe\" y=\"315\"/>\n      </g>\n     </g>\n     <g id=\"text_13\">\n      <!-- female -->\n      <g transform=\"translate(463.60915 351.749308)rotate(-45)scale(0.1 -0.1)\">\n       <defs>\n        <path d=\"M 52 44.1875 \nQ 55.375 50.25 60.0625 53.125 \nQ 64.75 56 71.09375 56 \nQ 79.640625 56 84.28125 50.015625 \nQ 88.921875 44.046875 88.921875 33.015625 \nL 88.921875 0 \nL 79.890625 0 \nL 79.890625 32.71875 \nQ 79.890625 40.578125 77.09375 44.375 \nQ 74.3125 48.1875 68.609375 48.1875 \nQ 61.625 48.1875 57.5625 43.546875 \nQ 53.515625 38.921875 53.515625 30.90625 \nL 53.515625 0 \nL 44.484375 0 \nL 44.484375 32.71875 \nQ 44.484375 40.625 41.703125 44.40625 \nQ 38.921875 48.1875 33.109375 48.1875 \nQ 26.21875 48.1875 22.15625 43.53125 \nQ 18.109375 38.875 18.109375 30.90625 \nL 18.109375 0 \nL 9.078125 0 \nL 9.078125 54.6875 \nL 18.109375 54.6875 \nL 18.109375 46.1875 \nQ 21.1875 51.21875 25.484375 53.609375 \nQ 29.78125 56 35.6875 56 \nQ 41.65625 56 45.828125 52.96875 \nQ 50 49.953125 52 44.1875 \nz\n\" id=\"DejaVuSans-109\"/>\n       </defs>\n       <use xlink:href=\"#DejaVuSans-102\"/>\n       <use x=\"35.205078\" xlink:href=\"#DejaVuSans-101\"/>\n       <use x=\"96.728516\" xlink:href=\"#DejaVuSans-109\"/>\n       <use x=\"194.140625\" xlink:href=\"#DejaVuSans-97\"/>\n       <use x=\"255.419922\" xlink:href=\"#DejaVuSans-108\"/>\n       <use x=\"283.203125\" xlink:href=\"#DejaVuSans-101\"/>\n      </g>\n     </g>\n    </g>\n    <g id=\"xtick_8\">\n     <g id=\"line2d_13\">\n      <g>\n       <use style=\"stroke:#000000;stroke-width:0.8;\" x=\"627.565186\" xlink:href=\"#maf384df3fe\" y=\"315\"/>\n      </g>\n     </g>\n     <g id=\"text_14\">\n      <!-- male -->\n      <g transform=\"translate(620.748235 344.909155)rotate(-45)scale(0.1 -0.1)\">\n       <use xlink:href=\"#DejaVuSans-109\"/>\n       <use x=\"97.412109\" xlink:href=\"#DejaVuSans-97\"/>\n       <use x=\"158.691406\" xlink:href=\"#DejaVuSans-108\"/>\n       <use x=\"186.474609\" xlink:href=\"#DejaVuSans-101\"/>\n      </g>\n     </g>\n    </g>\n   </g>\n   <g id=\"matplotlib.axis_4\">\n    <g id=\"ytick_6\">\n     <g id=\"line2d_14\">\n      <g>\n       <use style=\"stroke:#000000;stroke-width:0.8;\" x=\"398.523864\" xlink:href=\"#m6a542de435\" y=\"315\"/>\n      </g>\n     </g>\n    </g>\n    <g id=\"ytick_7\">\n     <g id=\"line2d_15\">\n      <g>\n       <use style=\"stroke:#000000;stroke-width:0.8;\" x=\"398.523864\" xlink:href=\"#m6a542de435\" y=\"256.435036\"/>\n      </g>\n     </g>\n    </g>\n    <g id=\"ytick_8\">\n     <g id=\"line2d_16\">\n      <g>\n       <use style=\"stroke:#000000;stroke-width:0.8;\" x=\"398.523864\" xlink:href=\"#m6a542de435\" y=\"197.870071\"/>\n      </g>\n     </g>\n    </g>\n    <g id=\"ytick_9\">\n     <g id=\"line2d_17\">\n      <g>\n       <use style=\"stroke:#000000;stroke-width:0.8;\" x=\"398.523864\" xlink:href=\"#m6a542de435\" y=\"139.305107\"/>\n      </g>\n     </g>\n    </g>\n    <g id=\"ytick_10\">\n     <g id=\"line2d_18\">\n      <g>\n       <use style=\"stroke:#000000;stroke-width:0.8;\" x=\"398.523864\" xlink:href=\"#m6a542de435\" y=\"80.740142\"/>\n      </g>\n     </g>\n    </g>\n   </g>\n   <g id=\"patch_16\">\n    <path d=\"M 398.523864 315 \nL 398.523864 43.2 \n\" style=\"fill:none;stroke:#000000;stroke-linecap:square;stroke-linejoin:miter;stroke-width:0.8;\"/>\n   </g>\n   <g id=\"patch_17\">\n    <path d=\"M 702.8875 315 \nL 702.8875 43.2 \n\" style=\"fill:none;stroke:#000000;stroke-linecap:square;stroke-linejoin:miter;stroke-width:0.8;\"/>\n   </g>\n   <g id=\"patch_18\">\n    <path d=\"M 398.523864 315 \nL 702.8875 315 \n\" style=\"fill:none;stroke:#000000;stroke-linecap:square;stroke-linejoin:miter;stroke-width:0.8;\"/>\n   </g>\n   <g id=\"patch_19\">\n    <path d=\"M 398.523864 43.2 \nL 702.8875 43.2 \n\" style=\"fill:none;stroke:#000000;stroke-linecap:square;stroke-linejoin:miter;stroke-width:0.8;\"/>\n   </g>\n   <g id=\"text_15\">\n    <!-- By Sex -->\n    <g transform=\"translate(530.183807 37.2)scale(0.12 -0.12)\">\n     <defs>\n      <path d=\"M 53.515625 70.515625 \nL 53.515625 60.890625 \nQ 47.90625 63.578125 42.921875 64.890625 \nQ 37.9375 66.21875 33.296875 66.21875 \nQ 25.25 66.21875 20.875 63.09375 \nQ 16.5 59.96875 16.5 54.203125 \nQ 16.5 49.359375 19.40625 46.890625 \nQ 22.3125 44.4375 30.421875 42.921875 \nL 36.375 41.703125 \nQ 47.40625 39.59375 52.65625 34.296875 \nQ 57.90625 29 57.90625 20.125 \nQ 57.90625 9.515625 50.796875 4.046875 \nQ 43.703125 -1.421875 29.984375 -1.421875 \nQ 24.8125 -1.421875 18.96875 -0.25 \nQ 13.140625 0.921875 6.890625 3.21875 \nL 6.890625 13.375 \nQ 12.890625 10.015625 18.65625 8.296875 \nQ 24.421875 6.59375 29.984375 6.59375 \nQ 38.421875 6.59375 43.015625 9.90625 \nQ 47.609375 13.234375 47.609375 19.390625 \nQ 47.609375 24.75 44.3125 27.78125 \nQ 41.015625 30.8125 33.5 32.328125 \nL 27.484375 33.5 \nQ 16.453125 35.6875 11.515625 40.375 \nQ 6.59375 45.0625 6.59375 53.421875 \nQ 6.59375 63.09375 13.40625 68.65625 \nQ 20.21875 74.21875 32.171875 74.21875 \nQ 37.3125 74.21875 42.625 73.28125 \nQ 47.953125 72.359375 53.515625 70.515625 \nz\n\" id=\"DejaVuSans-83\"/>\n      <path d=\"M 54.890625 54.6875 \nL 35.109375 28.078125 \nL 55.90625 0 \nL 45.3125 0 \nL 29.390625 21.484375 \nL 13.484375 0 \nL 2.875 0 \nL 24.125 28.609375 \nL 4.6875 54.6875 \nL 15.28125 54.6875 \nL 29.78125 35.203125 \nL 44.28125 54.6875 \nz\n\" id=\"DejaVuSans-120\"/>\n     </defs>\n     <use xlink:href=\"#DejaVuSans-66\"/>\n     <use x=\"68.603516\" xlink:href=\"#DejaVuSans-121\"/>\n     <use x=\"127.783203\" xlink:href=\"#DejaVuSans-32\"/>\n     <use x=\"159.570312\" xlink:href=\"#DejaVuSans-83\"/>\n     <use x=\"223.046875\" xlink:href=\"#DejaVuSans-101\"/>\n     <use x=\"282.820312\" xlink:href=\"#DejaVuSans-120\"/>\n    </g>\n   </g>\n  </g>\n  <g id=\"text_16\">\n   <!-- Traffic Stops in Durham - March 21st through 27th - 2015 -->\n   <g transform=\"translate(185.400625 16.318125)scale(0.12 -0.12)\">\n    <defs>\n     <path d=\"M -0.296875 72.90625 \nL 61.375 72.90625 \nL 61.375 64.59375 \nL 35.5 64.59375 \nL 35.5 0 \nL 25.59375 0 \nL 25.59375 64.59375 \nL -0.296875 64.59375 \nz\n\" id=\"DejaVuSans-84\"/>\n     <path d=\"M 19.671875 64.796875 \nL 19.671875 8.109375 \nL 31.59375 8.109375 \nQ 46.6875 8.109375 53.6875 14.9375 \nQ 60.6875 21.78125 60.6875 36.53125 \nQ 60.6875 51.171875 53.6875 57.984375 \nQ 46.6875 64.796875 31.59375 64.796875 \nz\nM 9.8125 72.90625 \nL 30.078125 72.90625 \nQ 51.265625 72.90625 61.171875 64.09375 \nQ 71.09375 55.28125 71.09375 36.53125 \nQ 71.09375 17.671875 61.125 8.828125 \nQ 51.171875 0 30.078125 0 \nL 9.8125 0 \nz\n\" id=\"DejaVuSans-68\"/>\n     <path d=\"M 4.890625 31.390625 \nL 31.203125 31.390625 \nL 31.203125 23.390625 \nL 4.890625 23.390625 \nz\n\" id=\"DejaVuSans-45\"/>\n     <path d=\"M 9.8125 72.90625 \nL 24.515625 72.90625 \nL 43.109375 23.296875 \nL 61.8125 72.90625 \nL 76.515625 72.90625 \nL 76.515625 0 \nL 66.890625 0 \nL 66.890625 64.015625 \nL 48.09375 14.015625 \nL 38.1875 14.015625 \nL 19.390625 64.015625 \nL 19.390625 0 \nL 9.8125 0 \nz\n\" id=\"DejaVuSans-77\"/>\n     <path d=\"M 45.40625 27.984375 \nQ 45.40625 37.75 41.375 43.109375 \nQ 37.359375 48.484375 30.078125 48.484375 \nQ 22.859375 48.484375 18.828125 43.109375 \nQ 14.796875 37.75 14.796875 27.984375 \nQ 14.796875 18.265625 18.828125 12.890625 \nQ 22.859375 7.515625 30.078125 7.515625 \nQ 37.359375 7.515625 41.375 12.890625 \nQ 45.40625 18.265625 45.40625 27.984375 \nz\nM 54.390625 6.78125 \nQ 54.390625 -7.171875 48.1875 -13.984375 \nQ 42 -20.796875 29.203125 -20.796875 \nQ 24.46875 -20.796875 20.265625 -20.09375 \nQ 16.0625 -19.390625 12.109375 -17.921875 \nL 12.109375 -9.1875 \nQ 16.0625 -11.328125 19.921875 -12.34375 \nQ 23.78125 -13.375 27.78125 -13.375 \nQ 36.625 -13.375 41.015625 -8.765625 \nQ 45.40625 -4.15625 45.40625 5.171875 \nL 45.40625 9.625 \nQ 42.625 4.78125 38.28125 2.390625 \nQ 33.9375 0 27.875 0 \nQ 17.828125 0 11.671875 7.65625 \nQ 5.515625 15.328125 5.515625 27.984375 \nQ 5.515625 40.671875 11.671875 48.328125 \nQ 17.828125 56 27.875 56 \nQ 33.9375 56 38.28125 53.609375 \nQ 42.625 51.21875 45.40625 46.390625 \nL 45.40625 54.6875 \nL 54.390625 54.6875 \nz\n\" id=\"DejaVuSans-103\"/>\n     <path d=\"M 8.203125 72.90625 \nL 55.078125 72.90625 \nL 55.078125 68.703125 \nL 28.609375 0 \nL 18.3125 0 \nL 43.21875 64.59375 \nL 8.203125 64.59375 \nz\n\" id=\"DejaVuSans-55\"/>\n    </defs>\n    <use xlink:href=\"#DejaVuSans-84\"/>\n    <use x=\"46.333984\" xlink:href=\"#DejaVuSans-114\"/>\n    <use x=\"87.447266\" xlink:href=\"#DejaVuSans-97\"/>\n    <use x=\"148.726562\" xlink:href=\"#DejaVuSans-102\"/>\n    <use x=\"183.931641\" xlink:href=\"#DejaVuSans-102\"/>\n    <use x=\"219.136719\" xlink:href=\"#DejaVuSans-105\"/>\n    <use x=\"246.919922\" xlink:href=\"#DejaVuSans-99\"/>\n    <use x=\"301.900391\" xlink:href=\"#DejaVuSans-32\"/>\n    <use x=\"333.6875\" xlink:href=\"#DejaVuSans-83\"/>\n    <use x=\"397.164062\" xlink:href=\"#DejaVuSans-116\"/>\n    <use x=\"436.373047\" xlink:href=\"#DejaVuSans-111\"/>\n    <use x=\"497.554688\" xlink:href=\"#DejaVuSans-112\"/>\n    <use x=\"561.03125\" xlink:href=\"#DejaVuSans-115\"/>\n    <use x=\"613.130859\" xlink:href=\"#DejaVuSans-32\"/>\n    <use x=\"644.917969\" xlink:href=\"#DejaVuSans-105\"/>\n    <use x=\"672.701172\" xlink:href=\"#DejaVuSans-110\"/>\n    <use x=\"736.080078\" xlink:href=\"#DejaVuSans-32\"/>\n    <use x=\"767.867188\" xlink:href=\"#DejaVuSans-68\"/>\n    <use x=\"844.869141\" xlink:href=\"#DejaVuSans-117\"/>\n    <use x=\"908.248047\" xlink:href=\"#DejaVuSans-114\"/>\n    <use x=\"947.611328\" xlink:href=\"#DejaVuSans-104\"/>\n    <use x=\"1010.990234\" xlink:href=\"#DejaVuSans-97\"/>\n    <use x=\"1072.269531\" xlink:href=\"#DejaVuSans-109\"/>\n    <use x=\"1169.681641\" xlink:href=\"#DejaVuSans-32\"/>\n    <use x=\"1201.46875\" xlink:href=\"#DejaVuSans-45\"/>\n    <use x=\"1237.552734\" xlink:href=\"#DejaVuSans-32\"/>\n    <use x=\"1269.339844\" xlink:href=\"#DejaVuSans-77\"/>\n    <use x=\"1355.619141\" xlink:href=\"#DejaVuSans-97\"/>\n    <use x=\"1416.898438\" xlink:href=\"#DejaVuSans-114\"/>\n    <use x=\"1455.761719\" xlink:href=\"#DejaVuSans-99\"/>\n    <use x=\"1510.742188\" xlink:href=\"#DejaVuSans-104\"/>\n    <use x=\"1574.121094\" xlink:href=\"#DejaVuSans-32\"/>\n    <use x=\"1605.908203\" xlink:href=\"#DejaVuSans-50\"/>\n    <use x=\"1669.53125\" xlink:href=\"#DejaVuSans-49\"/>\n    <use x=\"1733.154297\" xlink:href=\"#DejaVuSans-115\"/>\n    <use x=\"1785.253906\" xlink:href=\"#DejaVuSans-116\"/>\n    <use x=\"1824.462891\" xlink:href=\"#DejaVuSans-32\"/>\n    <use x=\"1856.25\" xlink:href=\"#DejaVuSans-116\"/>\n    <use x=\"1895.458984\" xlink:href=\"#DejaVuSans-104\"/>\n    <use x=\"1958.837891\" xlink:href=\"#DejaVuSans-114\"/>\n    <use x=\"1997.701172\" xlink:href=\"#DejaVuSans-111\"/>\n    <use x=\"2058.882812\" xlink:href=\"#DejaVuSans-117\"/>\n    <use x=\"2122.261719\" xlink:href=\"#DejaVuSans-103\"/>\n    <use x=\"2185.738281\" xlink:href=\"#DejaVuSans-104\"/>\n    <use x=\"2249.117188\" xlink:href=\"#DejaVuSans-32\"/>\n    <use x=\"2280.904297\" xlink:href=\"#DejaVuSans-50\"/>\n    <use x=\"2344.527344\" xlink:href=\"#DejaVuSans-55\"/>\n    <use x=\"2408.150391\" xlink:href=\"#DejaVuSans-116\"/>\n    <use x=\"2447.359375\" xlink:href=\"#DejaVuSans-104\"/>\n    <use x=\"2510.738281\" xlink:href=\"#DejaVuSans-32\"/>\n    <use x=\"2542.525391\" xlink:href=\"#DejaVuSans-45\"/>\n    <use x=\"2578.609375\" xlink:href=\"#DejaVuSans-32\"/>\n    <use x=\"2610.396484\" xlink:href=\"#DejaVuSans-50\"/>\n    <use x=\"2674.019531\" xlink:href=\"#DejaVuSans-48\"/>\n    <use x=\"2737.642578\" xlink:href=\"#DejaVuSans-49\"/>\n    <use x=\"2801.265625\" xlink:href=\"#DejaVuSans-53\"/>\n   </g>\n  </g>\n </g>\n <defs>\n  <clipPath id=\"pedadf8a1fb\">\n   <rect height=\"271.8\" width=\"304.363636\" x=\"33.2875\" y=\"43.2\"/>\n  </clipPath>\n  <clipPath id=\"p5aea5f0273\">\n   <rect height=\"271.8\" width=\"304.363636\" x=\"398.523864\" y=\"43.2\"/>\n  </clipPath>\n </defs>\n</svg>\n",
      "image/png": "[encoded data removed]"
     },
     "metadata": {
      "needs_background": "light"
     }
    }
   ],
   "source": [
    "from matplotlib import pyplot as plt\n",
    "\n",
    "fig, axes = plt.subplots(1, 2, figsize=(12, 5), sharey=True)\n",
    "fig.suptitle(\"Traffic Stops in Durham - March 21st through 27th - 2015\")\n",
    "\n",
    "\n",
    "axes[0].set_title(\"By Race\")\n",
    "axes[0].bar(race_counts.keys(), race_counts.values())\n",
    "axes[0].tick_params(axis='x', labelrotation = 45)\n",
    "\n",
    "axes[1].set_title(\"By Sex\")\n",
    "axes[1].bar(sex_counts.keys(), sex_counts.values())\n",
    "axes[1].tick_params(axis='x', labelrotation = 45)"
   ]
  },
  {
   "cell_type": "code",
   "execution_count": null,
   "metadata": {},
   "outputs": [],
   "source": []
  }
 ],
 "metadata": {
  "kernelspec": {
   "name": "python3",
   "display_name": "Python 3.9.1 64-bit",
   "metadata": {
    "interpreter": {
     "hash": "4cd7ab41f5fca4b9b44701077e38c5ffd31fe66a6cab21e0214b68d958d0e462"
    }
   }
  },
  "language_info": {
   "codemirror_mode": {
    "name": "ipython",
    "version": 3
   },
   "file_extension": ".py",
   "mimetype": "text/x-python",
   "name": "python",
   "nbconvert_exporter": "python",
   "pygments_lexer": "ipython3",
   "version": "3.9.1-final"
  }
 },
 "nbformat": 4,
 "nbformat_minor": 2
}