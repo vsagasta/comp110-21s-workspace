{
 "metadata": {
  "language_info": {
   "codemirror_mode": {
    "name": "ipython",
    "version": 3
   },
   "file_extension": ".py",
   "mimetype": "text/x-python",
   "name": "python",
   "nbconvert_exporter": "python",
   "pygments_lexer": "ipython3",
   "version": 3
  },
  "orig_nbformat": 2
 },
 "nbformat": 4,
 "nbformat_minor": 2,
 "cells": [
  {
   "cell_type": "code",
   "execution_count": null,
   "metadata": {},
   "outputs": [],
   "source": [
    "Begin your Jupyter Notebook with a markdown cell that describes your hypothesis about the two indicators you are investigating.\n",
    "\n",
    "Add a code cell that imports the pandas library in a conventional way, aliasing it as pd.\n",
    "\n",
    "In the same code cell as above, declare and initialize two named constants for each of the indicator code strings you will explore. Name these with more descriptive names than the codes themselves to help make your notebook more readable.\n",
    "\n",
    "\n",
    "python -m tools.submission projects/pj02 "
   ]
  }
 ]
}