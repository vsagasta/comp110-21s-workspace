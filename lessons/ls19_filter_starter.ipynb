{
 "cells": [
  {
   "cell_type": "markdown",
   "metadata": {},
   "source": [
    "# Filtering Data Based on Criteria\n",
    "\n",
    "In this lesson, we will use a simple, small dataset of weather projections in Chapel Hill for Thursday, March 25th, through Saturday, April 3rd, where each row is the projection for the next day in that timeframe.\n",
    "\n",
    "Our analysis goal is to find the average temperatures on days where it is unlikely (less than 30%) to rain.\n",
    "\n",
    "We will consider approaching this problem from a column-oriented perspective.\n",
    "\n",
    "First, let's consider our data set."
   ]
  },
  {
   "cell_type": "code",
   "execution_count": 1,
   "metadata": {},
   "outputs": [
    {
     "output_type": "execute_result",
     "data": {
      "text/plain": [
       "{'high': [77, 84, 78, 79, 65, 67, 74, 61, 55, 61],\n",
       " 'low': [67, 51, 64, 45, 43, 53, 56, 37, 34, 42],\n",
       " 'rain': [0.3, 0.2, 0.4, 0.8, 0.0, 0.2, 0.4, 0.5, 0.1, 0.1]}"
      ]
     },
     "metadata": {},
     "execution_count": 1
    }
   ],
   "source": [
    "col_data: dict[str, list[float]] = {\n",
    "    \"high\": [77, 84, 78, 79, 65, 67, 74, 61, 55, 61],\n",
    "    \"low\":  [67, 51, 64, 45, 43, 53, 56, 37, 34, 42],\n",
    "    \"rain\": [.3, .2, .4, .8, 0., .2, .4, .5, .1, .1]\n",
    "}\n",
    "\n",
    "col_data"
   ]
  },
  {
   "source": [
    "## Produce A \"Mask\" Based On Criteria"
   ],
   "cell_type": "markdown",
   "metadata": {}
  },
  {
   "cell_type": "code",
   "execution_count": 4,
   "metadata": {},
   "outputs": [],
   "source": [
    "def less_than(col: list[float], threshold: float) -> list[bool]:\n",
    "    result: list[bool] = []\n",
    "    for item in col:\n",
    "        result.append(item < threshold)\n",
    "\n",
    "    return result\n",
    "\n",
    "no_rain_mask: list[bool] = less_than(col_data[\"rain\"], 0.3)"
   ]
  },
  {
   "source": [
    "## Masked Function\n",
    "\n",
    "\n",
    "Takes in a column and a list of masks (bool values), returns only the values in the input column where the corresponding mask value is true."
   ],
   "cell_type": "markdown",
   "metadata": {}
  },
  {
   "cell_type": "code",
   "execution_count": 8,
   "metadata": {},
   "outputs": [
    {
     "output_type": "stream",
     "name": "stdout",
     "text": [
      "[False, True, False, False, True, True, False, False, True, True]\n"
     ]
    }
   ],
   "source": [
    "def masked(col: list[float], mask: list[bool]) -> list[float]:\n",
    "    result: list[float] = []\n",
    "    for i in range(len(mask)):\n",
    "        if mask[i]:\n",
    "            result.append(col[i])\n",
    "    return result\n",
    "\n",
    "\n",
    "print(no_rain_mask)\n",
    "highs_of_no_rain_days: list[float] = masked(col_data[\"high\"], no_rain_mask)"
   ]
  },
  {
   "source": [
    "## Compute The Average"
   ],
   "cell_type": "markdown",
   "metadata": {}
  },
  {
   "cell_type": "code",
   "execution_count": 9,
   "metadata": {},
   "outputs": [
    {
     "output_type": "execute_result",
     "data": {
      "text/plain": [
       "66.4"
      ]
     },
     "metadata": {},
     "execution_count": 9
    }
   ],
   "source": [
    "def mean(col: list[float]) -> float:\n",
    "    return sum(col) / len(col)\n",
    "\n",
    "mean(highs_of_no_rain_days)"
   ]
  },
  {
   "cell_type": "code",
   "execution_count": 10,
   "metadata": {},
   "outputs": [],
   "source": [
    "## With these helper functions, we can perform many analyses!"
   ]
  },
  {
   "cell_type": "code",
   "execution_count": null,
   "metadata": {},
   "outputs": [],
   "source": [
    "col_days_mask"
   ]
  }
 ],
 "metadata": {
  "kernelspec": {
   "name": "python3",
   "display_name": "Python 3.9.1 64-bit",
   "metadata": {
    "interpreter": {
     "hash": "4cd7ab41f5fca4b9b44701077e38c5ffd31fe66a6cab21e0214b68d958d0e462"
    }
   }
  },
  "language_info": {
   "codemirror_mode": {
    "name": "ipython",
    "version": 3
   },
   "file_extension": ".py",
   "mimetype": "text/x-python",
   "name": "python",
   "nbconvert_exporter": "python",
   "pygments_lexer": "ipython3",
   "version": "3.9.1-final"
  }
 },
 "nbformat": 4,
 "nbformat_minor": 2
}